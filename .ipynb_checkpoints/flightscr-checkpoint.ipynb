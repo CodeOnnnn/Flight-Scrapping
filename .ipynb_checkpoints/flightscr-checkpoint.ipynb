{
 "cells": [
  {
   "cell_type": "code",
   "execution_count": 1,
   "id": "56dbb736",
   "metadata": {},
   "outputs": [],
   "source": [
    "from time import sleep, strftime\n",
    "from random import randint\n",
    "import pandas as pd\n",
    "from selenium import webdriver\n",
    "from selenium.webdriver.common.keys import Keys"
   ]
  },
  {
   "cell_type": "code",
   "execution_count": 2,
   "id": "21016821",
   "metadata": {},
   "outputs": [],
   "source": [
    "import smtplib\n",
    "from email.mime.multipart import MIMEMultipart"
   ]
  },
  {
   "cell_type": "code",
   "execution_count": 3,
   "id": "d94d7359",
   "metadata": {},
   "outputs": [],
   "source": [
    "chromedriver_path= '.\\chromedriver.exe'"
   ]
  },
  {
   "cell_type": "code",
   "execution_count": 4,
   "id": "c5069f5b",
   "metadata": {},
   "outputs": [],
   "source": [
    "driver = webdriver.Chrome(executable_path=chromedriver_path)"
   ]
  },
  {
   "cell_type": "code",
   "execution_count": 5,
   "id": "73c9a19e",
   "metadata": {},
   "outputs": [],
   "source": [
    "# yatra='https://flight.yatra.com/air-search-ui/dom2/trigger?type=R&viewName=normal&flexi=0&noOfSegments=2&origin=DEL&originCountry=IN&destination=BOM&destinationCountry=IN&flight_depart_date=30%2F09%2F2022&arrivalDate=04%2F10%2F2022&ADT=1&CHD=0&INF=0&class=Economy&source=fresco-home&unqvaldesktop=456183416202'\n",
    "# cleartrip='https://www.cleartrip.com/flights/results?adults=3&childs=0&infants=0&class=Economy&depart_date=14/11/2022&return_date=18/11/2022&from=DEL&to=IXZ&intl=n&origin=DEL%20-%20New%20Delhi,%20IN&destination=IXZ%20-%20Port%20Blair,%20IN&sd=1660963642740&rnd_one=R&sourceCountry=New%20Delhi&destinationCountry=Port%20Blair'\n",
    "# kayak='https://www.kayak.co.in/flights/DEL-BOM/2022-09-21-flexible/2022-09-27-flexible?sort=bestflight_a'\n",
    "# driver.get(kayak)\n"
   ]
  },
  {
   "cell_type": "code",
   "execution_count": 6,
   "id": "d8de3c2c",
   "metadata": {},
   "outputs": [],
   "source": [
    "# //*[@id=\"modifySearch\"]/ul[2]/li[4]/div[1]/label/div/div[2]/div[2]/div[3]/div[21]/p/span[2]"
   ]
  },
  {
   "cell_type": "code",
   "execution_count": 7,
   "id": "e69806d7",
   "metadata": {},
   "outputs": [],
   "source": [
    "pop_close='//*[@class=\"B5lA-button\"]'\n",
    "closetry='//*[@class=\"bBPb-closeIcon\"]'\n",
    "#driver.find_element_by_xpath(pop_close).click()\n",
    "#driver.find_element_by_xpath(closetry).click()"
   ]
  },
  {
   "cell_type": "code",
   "execution_count": 8,
   "id": "e5f53057",
   "metadata": {},
   "outputs": [],
   "source": [
    "def load_more():\n",
    "    try:\n",
    "        more_results='//*[@class=\"moreButton\"]'\n",
    "        driver.find_element_by_xpath(more_results).click()\n",
    "        print('sleeping....')\n",
    "        sleep(randint(5,10))\n",
    "    except:\n",
    "        pass"
   ]
  },
  {
   "cell_type": "code",
   "execution_count": 9,
   "id": "31ed1b87",
   "metadata": {
    "scrolled": true
   },
   "outputs": [],
   "source": [
    "def page_scrape():\n",
    "    \"\"\"This function takes care of the scraping part\"\"\"\n",
    "    \n",
    "    xp_sections = '//*[@class=\"section duration allow-multi-modal-icons\"]'\n",
    "    sections = driver.find_elements_by_xpath(xp_sections)\n",
    "    sections_list = [value.text for value in sections]\n",
    "    section_a_list = sections_list[::2] # This is to separate the two flights\n",
    "    section_b_list = sections_list[1::2] # This is to separate the two flights\n",
    "    \n",
    "    # if you run into a reCaptcha, you might want to do something about it\n",
    "    # you will know there's a problem if the lists above are empty\n",
    "    # this if statement lets you exit the bot or do something else\n",
    "    # you can add a sleep here, to let you solve the captcha and continue scraping\n",
    "    # i'm using a SystemExit because i want to test everything from the start\n",
    " \n",
    "    # I'll use the letter A for the outbound flight and B for the inbound\n",
    "    a_duration = []\n",
    "    a_section_names = []\n",
    "    for n in section_a_list:\n",
    "        # Separate the time from the cities\n",
    "        a_section_names.append(''.join(n.split()[2:5]))\n",
    "        a_duration.append(''.join(n.split()[0:2]))\n",
    "    b_duration = []\n",
    "    b_section_names = []\n",
    "    for n in section_b_list:\n",
    "        # Separate the time from the cities\n",
    "        b_section_names.append(''.join(n.split()[2:5]))\n",
    "        b_duration.append(''.join(n.split()[0:2]))\n",
    " \n",
    "    #PROBLEM *********************\n",
    "  \n",
    "    xp_dates = '//div[@class=\"section stacked-carriers with-date\"]'\n",
    "    dates = driver.find_elements_by_xpath(xp_dates)\n",
    "    dates_list = [value.text for value in dates]\n",
    "    a_date_list = dates_list[::2]\n",
    "    b_date_list = dates_list[1::2]\n",
    "    \n",
    "    #**************************\n",
    "    # Separating the weekday from the day\n",
    "#     a_day = [value.split()[0] for value in a_date_list]\n",
    "#     a_weekday = [value.split()[1] for value in a_date_list]\n",
    "#     b_day = [value.split()[0] for value in b_date_list]\n",
    "#     b_weekday = [value.split()[1] for value in b_date_list]\n",
    "    \n",
    "#     print(a_day)\n",
    "    \n",
    "    \n",
    "    #*********************************\n",
    "    \n",
    "    # getting the prices\n",
    "    \n",
    "    xp_prices = '//*[@class=\"price option-text\"]'\n",
    "    prices = driver.find_elements_by_xpath(xp_prices)\n",
    "    prices_list = [price.text.replace('₹ ','').replace(',','') for price in prices if price.text != '']\n",
    "    prices_list = list(map(int, prices_list))\n",
    "    \n",
    "    #solving problem of prices \n",
    "    pl=[]\n",
    "    for i in range(len(prices_list)):\n",
    "        if i<len(a_duration):\n",
    "            pl.append(prices_list[i])\n",
    "\n",
    "    # the stops are a big list with one leg on the even index and second leg on odd index\n",
    "#     xp_stops = '//*[@class=\"section stops\"]'\n",
    "#     stops = driver.find_elements_by_xpath(xp_stops)\n",
    "#     stops_list = [stop.text[0].replace('n','0') for stop in stops]\n",
    "#     a_stop_list = stops_list[::2]\n",
    "#     b_stop_list = stops_list[1::2]\n",
    "\n",
    "    xp_stops_cities = '//div[@class=\"section stops\"]/div[2]'\n",
    "    stops_cities = driver.find_elements_by_xpath(xp_stops_cities)\n",
    "    stops_cities_list = [stop.text for stop in stops_cities]\n",
    "    a_stop_name_list = stops_cities_list[::2]\n",
    "    b_stop_name_list = stops_cities_list[1::2]\n",
    "\n",
    "    # this part gets me the airline company and the departure and arrival times, for both legs\n",
    "    xp_schedule = '//div[@class=\"section times\"]'\n",
    "    schedules = driver.find_elements_by_xpath(xp_schedule)\n",
    "    hours_list = []\n",
    "    carrier_list = []\n",
    "    for schedule in schedules:\n",
    "        hours_list.append(schedule.text.split('\\n')[0])\n",
    "#         print(hours_list)\n",
    "#         carrier_list.append(schedule.text.split('\\n')[1])\n",
    "    # split the hours and carriers, between a and b legs\n",
    "    a_hours = hours_list[::2]\n",
    "#     a_carrier = carrier_list[::2]\n",
    "    b_hours = hours_list[1::2]\n",
    "#     b_carrier = carrier_list[1::2]\n",
    "#    print(len(prices_list))\n",
    "    cols = ([ 'Out Time', 'Out Cities', 'Out Duration', 'Out Stop Cities','Return Time', 'Return Cities', 'Return Duration', 'Return Stop Cities', 'Price'])\n",
    "#'Out Day','Out Weekday','Return Day', , 'Return Weekday', 'Out Stops', 'Return Stops', 'Return Airline', 'Out Airline'\n",
    "    flights_df = pd.DataFrame({#'Out Day': a_day,\n",
    "                               #'Out Weekday': a_weekday,\n",
    "                               'Out Time': a_hours,\n",
    "                               'Out Cities': a_section_names,\n",
    "                               'Out Duration': a_duration,\n",
    "#                                'Return Day': b_day,\n",
    "#                                'Return Weekday': b_weekday,\n",
    "                               'Return Stop Cities': b_stop_name_list,\n",
    "#                                'Out Airline': a_carrier,\n",
    "                                'Return Time': b_hours,\n",
    "                                'Return Duration': b_duration,\n",
    "                                'Return Cities': b_section_names,\n",
    "#                                'Out Stops': a_stop_list,\n",
    "                               'Out Stop Cities': a_stop_name_list,\n",
    "#                                'Return Stops': b_stop_list,\n",
    "#                                'Return Airline': b_carrier,                           \n",
    "                               'Price': pl})[cols]\n",
    "    \n",
    "    flights_df['timestamp'] = strftime(\"%Y%m%d-%H%M\") # so we can know when it was scraped\n",
    "    return flights_df"
   ]
  },
  {
   "cell_type": "code",
   "execution_count": null,
   "id": "e5c6a1d3",
   "metadata": {},
   "outputs": [],
   "source": []
  },
  {
   "cell_type": "code",
   "execution_count": 10,
   "id": "dac2b15e",
   "metadata": {},
   "outputs": [],
   "source": [
    "def start_yatra(from_city, to_city, date_start, date_end):\n",
    "    kayak= ('https://www.kayak.co.in/flights/'+ from_city + '-' + to_city +'/'+ date_start + '-flexible/' + date_end + '-flexible?sort=bestflight_a')\n",
    "    driver.get(kayak)\n",
    "    sleep(randint(8,10))\n",
    "    try:\n",
    "        pop_close='//a[@class=\"B5lA-button\"]'\n",
    "        driver.find_element_by_xpath(pop_close).click()\n",
    "    except Exception as e:\n",
    "        pass\n",
    "    sleep(randint(6,9))\n",
    "    print('loading more...')\n",
    "    load_more()\n",
    "    \n",
    "    #best\n",
    "    \n",
    "    print('scrape best')\n",
    "    df_best=page_scrape()\n",
    "    df_best['sort']='best'\n",
    "    sleep(randint(60,80))\n",
    "    print(\"best scrapped, cheap scrape\")\n",
    "    \n",
    "    #lowest price\n",
    "    #matrix= driver.find_element_by_xpath('//*[contains(@id,\"FlexMatrixCell\")]')\n",
    "    matrix= driver.find_element_by_xpath('//*[@class=\"eqc8\"]')\n",
    "    matrix_price=[price.text.replace('₹ ','').replace(',','') for price in matrix]\n",
    "    matrix_price=list(map(int,matrix_price))\n",
    "    matrix_min=min(matrix_price)\n",
    "    matrix_avg= sum(matrix_price)/len(matrix_price)\n",
    "    \n",
    "    print('cheapest results')\n",
    "    cheap='//a[@data-code=\"price\"]'\n",
    "    driver.find_element_by_xpath(cheap).click()\n",
    "    sleep(randint(60,80))\n",
    "    print('starting scrape 2')\n",
    "    df_cheap=page_scrape()\n",
    "    df_cheap['sort']='cheap'\n",
    "    sleep(randint(60,80))\n",
    "    \n",
    "    #fastest\n",
    "    \n",
    "    print('fastest results')\n",
    "    fast='//a[@data-code=\"duration\"]'\n",
    "    driver.find_element_by_xpath(fast).click()\n",
    "    sleep(randint(60,80))\n",
    "    print('starting scrape 3')\n",
    "    df_fast=page_scrape()\n",
    "    df_fast['sort']='fast'\n",
    "    sleep(randint(60,80))\n",
    "    \n",
    "    df= df_cheap.append(df_best).append(df_fast)\n",
    "    df.to_excel('search_backups//flights_{}-{}_from_{}_to_{}.xlsx'.format(from_city, to_city, date_start, date_end), index=False)\n",
    "    print('saved')\n",
    "    \n",
    "     "
   ]
  },
  {
   "cell_type": "code",
   "execution_count": 11,
   "id": "bcc3058d",
   "metadata": {
    "scrolled": true
   },
   "outputs": [
    {
     "name": "stdout",
     "output_type": "stream",
     "text": [
      "From which city? DEL\n",
      "Where to? BOM\n",
      "Search around which departure date? Please use YYYY-MM-DD format only 2022-09-21\n",
      "Return when? Please use YYYY-MM-DD format only 2022-09-27\n"
     ]
    },
    {
     "ename": "WebDriverException",
     "evalue": "Message: unknown error: net::ERR_NAME_NOT_RESOLVED\n  (Session info: chrome=104.0.5112.102)\n",
     "output_type": "error",
     "traceback": [
      "\u001b[1;31m---------------------------------------------------------------------------\u001b[0m",
      "\u001b[1;31mWebDriverException\u001b[0m                        Traceback (most recent call last)",
      "Input \u001b[1;32mIn [11]\u001b[0m, in \u001b[0;36m<cell line: 7>\u001b[1;34m()\u001b[0m\n\u001b[0;32m      4\u001b[0m date_end \u001b[38;5;241m=\u001b[39m \u001b[38;5;28minput\u001b[39m(\u001b[38;5;124m'\u001b[39m\u001b[38;5;124mReturn when? Please use YYYY-MM-DD format only \u001b[39m\u001b[38;5;124m'\u001b[39m)\n\u001b[0;32m      6\u001b[0m \u001b[38;5;66;03m#for n in range(0,5):\u001b[39;00m\n\u001b[1;32m----> 7\u001b[0m \u001b[43mstart_yatra\u001b[49m\u001b[43m(\u001b[49m\u001b[43mfrom_city\u001b[49m\u001b[43m \u001b[49m\u001b[43m,\u001b[49m\u001b[43m \u001b[49m\u001b[43mto_city\u001b[49m\u001b[43m \u001b[49m\u001b[43m,\u001b[49m\u001b[43m \u001b[49m\u001b[43mdate_start\u001b[49m\u001b[43m \u001b[49m\u001b[43m,\u001b[49m\u001b[43m \u001b[49m\u001b[43mdate_end\u001b[49m\u001b[43m)\u001b[49m\n\u001b[0;32m      8\u001b[0m \u001b[38;5;66;03m#print('iteration was complete')\u001b[39;00m\n\u001b[0;32m      9\u001b[0m     \n\u001b[0;32m     10\u001b[0m     \u001b[38;5;66;03m# Wait 4 hours\u001b[39;00m\n\u001b[0;32m     11\u001b[0m     \u001b[38;5;66;03m#sleep(60*60*4)\u001b[39;00m\n\u001b[0;32m     12\u001b[0m \u001b[38;5;28mprint\u001b[39m(\u001b[38;5;124m'\u001b[39m\u001b[38;5;124msleep finished.....\u001b[39m\u001b[38;5;124m'\u001b[39m)\n",
      "Input \u001b[1;32mIn [10]\u001b[0m, in \u001b[0;36mstart_yatra\u001b[1;34m(from_city, to_city, date_start, date_end)\u001b[0m\n\u001b[0;32m      1\u001b[0m \u001b[38;5;28;01mdef\u001b[39;00m \u001b[38;5;21mstart_yatra\u001b[39m(from_city, to_city, date_start, date_end):\n\u001b[0;32m      2\u001b[0m     kayak\u001b[38;5;241m=\u001b[39m (\u001b[38;5;124m'\u001b[39m\u001b[38;5;124mhttps://www.kayak.co.in/flights/\u001b[39m\u001b[38;5;124m'\u001b[39m\u001b[38;5;241m+\u001b[39m from_city \u001b[38;5;241m+\u001b[39m \u001b[38;5;124m'\u001b[39m\u001b[38;5;124m-\u001b[39m\u001b[38;5;124m'\u001b[39m \u001b[38;5;241m+\u001b[39m to_city \u001b[38;5;241m+\u001b[39m\u001b[38;5;124m'\u001b[39m\u001b[38;5;124m/\u001b[39m\u001b[38;5;124m'\u001b[39m\u001b[38;5;241m+\u001b[39m date_start \u001b[38;5;241m+\u001b[39m \u001b[38;5;124m'\u001b[39m\u001b[38;5;124m-flexible/\u001b[39m\u001b[38;5;124m'\u001b[39m \u001b[38;5;241m+\u001b[39m date_end \u001b[38;5;241m+\u001b[39m \u001b[38;5;124m'\u001b[39m\u001b[38;5;124m-flexible?sort=bestflight_a\u001b[39m\u001b[38;5;124m'\u001b[39m)\n\u001b[1;32m----> 3\u001b[0m     \u001b[43mdriver\u001b[49m\u001b[38;5;241;43m.\u001b[39;49m\u001b[43mget\u001b[49m\u001b[43m(\u001b[49m\u001b[43mkayak\u001b[49m\u001b[43m)\u001b[49m\n\u001b[0;32m      4\u001b[0m     sleep(randint(\u001b[38;5;241m8\u001b[39m,\u001b[38;5;241m10\u001b[39m))\n\u001b[0;32m      5\u001b[0m     \u001b[38;5;28;01mtry\u001b[39;00m:\n",
      "File \u001b[1;32m~\\Desktop\\selenium-3.141.0\\selenium\\webdriver\\remote\\webdriver.py:333\u001b[0m, in \u001b[0;36mWebDriver.get\u001b[1;34m(self, url)\u001b[0m\n\u001b[0;32m    329\u001b[0m \u001b[38;5;28;01mdef\u001b[39;00m \u001b[38;5;21mget\u001b[39m(\u001b[38;5;28mself\u001b[39m, url):\n\u001b[0;32m    330\u001b[0m     \u001b[38;5;124;03m\"\"\"\u001b[39;00m\n\u001b[0;32m    331\u001b[0m \u001b[38;5;124;03m    Loads a web page in the current browser session.\u001b[39;00m\n\u001b[0;32m    332\u001b[0m \u001b[38;5;124;03m    \"\"\"\u001b[39;00m\n\u001b[1;32m--> 333\u001b[0m     \u001b[38;5;28;43mself\u001b[39;49m\u001b[38;5;241;43m.\u001b[39;49m\u001b[43mexecute\u001b[49m\u001b[43m(\u001b[49m\u001b[43mCommand\u001b[49m\u001b[38;5;241;43m.\u001b[39;49m\u001b[43mGET\u001b[49m\u001b[43m,\u001b[49m\u001b[43m \u001b[49m\u001b[43m{\u001b[49m\u001b[38;5;124;43m'\u001b[39;49m\u001b[38;5;124;43murl\u001b[39;49m\u001b[38;5;124;43m'\u001b[39;49m\u001b[43m:\u001b[49m\u001b[43m \u001b[49m\u001b[43murl\u001b[49m\u001b[43m}\u001b[49m\u001b[43m)\u001b[49m\n",
      "File \u001b[1;32m~\\Desktop\\selenium-3.141.0\\selenium\\webdriver\\remote\\webdriver.py:321\u001b[0m, in \u001b[0;36mWebDriver.execute\u001b[1;34m(self, driver_command, params)\u001b[0m\n\u001b[0;32m    319\u001b[0m response \u001b[38;5;241m=\u001b[39m \u001b[38;5;28mself\u001b[39m\u001b[38;5;241m.\u001b[39mcommand_executor\u001b[38;5;241m.\u001b[39mexecute(driver_command, params)\n\u001b[0;32m    320\u001b[0m \u001b[38;5;28;01mif\u001b[39;00m response:\n\u001b[1;32m--> 321\u001b[0m     \u001b[38;5;28;43mself\u001b[39;49m\u001b[38;5;241;43m.\u001b[39;49m\u001b[43merror_handler\u001b[49m\u001b[38;5;241;43m.\u001b[39;49m\u001b[43mcheck_response\u001b[49m\u001b[43m(\u001b[49m\u001b[43mresponse\u001b[49m\u001b[43m)\u001b[49m\n\u001b[0;32m    322\u001b[0m     response[\u001b[38;5;124m'\u001b[39m\u001b[38;5;124mvalue\u001b[39m\u001b[38;5;124m'\u001b[39m] \u001b[38;5;241m=\u001b[39m \u001b[38;5;28mself\u001b[39m\u001b[38;5;241m.\u001b[39m_unwrap_value(\n\u001b[0;32m    323\u001b[0m         response\u001b[38;5;241m.\u001b[39mget(\u001b[38;5;124m'\u001b[39m\u001b[38;5;124mvalue\u001b[39m\u001b[38;5;124m'\u001b[39m, \u001b[38;5;28;01mNone\u001b[39;00m))\n\u001b[0;32m    324\u001b[0m     \u001b[38;5;28;01mreturn\u001b[39;00m response\n",
      "File \u001b[1;32m~\\Desktop\\selenium-3.141.0\\selenium\\webdriver\\remote\\errorhandler.py:242\u001b[0m, in \u001b[0;36mErrorHandler.check_response\u001b[1;34m(self, response)\u001b[0m\n\u001b[0;32m    240\u001b[0m         alert_text \u001b[38;5;241m=\u001b[39m value[\u001b[38;5;124m'\u001b[39m\u001b[38;5;124malert\u001b[39m\u001b[38;5;124m'\u001b[39m]\u001b[38;5;241m.\u001b[39mget(\u001b[38;5;124m'\u001b[39m\u001b[38;5;124mtext\u001b[39m\u001b[38;5;124m'\u001b[39m)\n\u001b[0;32m    241\u001b[0m     \u001b[38;5;28;01mraise\u001b[39;00m exception_class(message, screen, stacktrace, alert_text)\n\u001b[1;32m--> 242\u001b[0m \u001b[38;5;28;01mraise\u001b[39;00m exception_class(message, screen, stacktrace)\n",
      "\u001b[1;31mWebDriverException\u001b[0m: Message: unknown error: net::ERR_NAME_NOT_RESOLVED\n  (Session info: chrome=104.0.5112.102)\n"
     ]
    }
   ],
   "source": [
    "from_city = input('From which city? ')\n",
    "to_city = input('Where to? ')\n",
    "date_start = input('Search around which departure date? Please use YYYY-MM-DD format only ')\n",
    "date_end = input('Return when? Please use YYYY-MM-DD format only ')\n",
    "\n",
    "#for n in range(0,5):\n",
    "start_yatra(from_city , to_city , date_start , date_end)\n",
    "#print('iteration was complete')\n",
    "    \n",
    "    # Wait 4 hours\n",
    "    #sleep(60*60*4)\n",
    "print('sleep finished.....')"
   ]
  },
  {
   "cell_type": "code",
   "execution_count": null,
   "id": "60cbb1d1",
   "metadata": {},
   "outputs": [],
   "source": []
  }
 ],
 "metadata": {
  "kernelspec": {
   "display_name": "Python 3 (ipykernel)",
   "language": "python",
   "name": "python3"
  },
  "language_info": {
   "codemirror_mode": {
    "name": "ipython",
    "version": 3
   },
   "file_extension": ".py",
   "mimetype": "text/x-python",
   "name": "python",
   "nbconvert_exporter": "python",
   "pygments_lexer": "ipython3",
   "version": "3.10.5"
  },
  "vscode": {
   "interpreter": {
    "hash": "6933e9a6f7f607c06ea69277d72bad4b7068a99c53c1ac64e22550a6fe9b7f04"
   }
  }
 },
 "nbformat": 4,
 "nbformat_minor": 5
}
