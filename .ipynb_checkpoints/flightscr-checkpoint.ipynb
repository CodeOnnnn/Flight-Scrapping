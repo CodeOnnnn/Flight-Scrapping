{
 "cells": [
  {
   "cell_type": "code",
   "execution_count": 13,
   "id": "56dbb736",
   "metadata": {},
   "outputs": [],
   "source": [
    "from time import sleep, strftime\n",
    "from random import randint\n",
    "import pandas as pd\n",
    "from selenium import webdriver\n",
    "from selenium.webdriver.common.keys import Keys"
   ]
  },
  {
   "cell_type": "code",
   "execution_count": 14,
   "id": "21016821",
   "metadata": {},
   "outputs": [],
   "source": [
    "import smtplib\n",
    "from email.mime.multipart import MIMEMultipart"
   ]
  },
  {
   "cell_type": "code",
   "execution_count": 15,
   "id": "d94d7359",
   "metadata": {},
   "outputs": [],
   "source": [
    "chromedriver_path= '.\\chromedriver.exe'"
   ]
  },
  {
   "cell_type": "code",
   "execution_count": 16,
   "id": "c5069f5b",
   "metadata": {},
   "outputs": [],
   "source": [
    "driver = webdriver.Chrome(executable_path=chromedriver_path)\n",
    "sleep(2)"
   ]
  },
  {
   "cell_type": "code",
   "execution_count": 17,
   "id": "73c9a19e",
   "metadata": {},
   "outputs": [],
   "source": [
    "yatra='https://flight.yatra.com/air-search-ui/dom2/trigger?type=R&viewName=normal&flexi=0&noOfSegments=2&origin=DEL&originCountry=IN&destination=BOM&destinationCountry=IN&flight_depart_date=30%2F09%2F2022&arrivalDate=04%2F10%2F2022&ADT=1&CHD=0&INF=0&class=Economy&source=fresco-home&unqvaldesktop=456183416202'\n",
    "cleartrip='https://www.cleartrip.com/flights/results?adults=3&childs=0&infants=0&class=Economy&depart_date=14/11/2022&return_date=18/11/2022&from=DEL&to=IXZ&intl=n&origin=DEL%20-%20New%20Delhi,%20IN&destination=IXZ%20-%20Port%20Blair,%20IN&sd=1660963642740&rnd_one=R&sourceCountry=New%20Delhi&destinationCountry=Port%20Blair'\n",
    "kayak='https://www.kayak.co.in/flights/DEL-BOM/2022-09-21-flexible/2022-09-27-flexible?sort=bestflight_a'\n",
    "driver.get(kayak)\n"
   ]
  },
  {
   "cell_type": "code",
   "execution_count": 6,
   "id": "d8de3c2c",
   "metadata": {},
   "outputs": [],
   "source": [
    "# //*[@id=\"modifySearch\"]/ul[2]/li[4]/div[1]/label/div/div[2]/div[2]/div[3]/div[21]/p/span[2]"
   ]
  },
  {
   "cell_type": "code",
   "execution_count": 19,
   "id": "e69806d7",
   "metadata": {},
   "outputs": [],
   "source": [
    "pop_close='//*[@class=\"B5lA-button\"]'\n",
    "closetry='//*[@class=\"bBPb-closeIcon\"]'\n",
    "driver.find_element_by_xpath(pop_close).click()\n",
    "driver.find_element_by_xpath(closetry).click()"
   ]
  },
  {
   "cell_type": "code",
   "execution_count": 18,
   "id": "e5f53057",
   "metadata": {},
   "outputs": [],
   "source": [
    "def load_more():\n",
    "    try:\n",
    "        more_results='//a[@class= \"moreButton\"]'\n",
    "        driver.find_element_by_xpath(more_results).click()\n",
    "        print('sleeping....')\n",
    "        sleep(randint(25,35))\n",
    "    except:\n",
    "        pass"
   ]
  },
  {
   "cell_type": "code",
   "execution_count": null,
   "id": "dac2b15e",
   "metadata": {},
   "outputs": [],
   "source": [
    "def start_yatra(from_city, to_city, date_start, date_end):\n",
    "    kayak= ('https://www.kayak.co.in/flights/'+ from_city + '-' + to_city +'/'+ date_start + '-flexible/' + date_end + '-flexible?sort=bestflight_a')\n",
    "    driver.get(kayak)\n",
    "    sleep(randint(8,10))\n",
    "    try:\n",
    "        pop_close='//*[@class=\"B5lA-button\"]'\n",
    "        driver.find_element_by_xpath(pop_close).click()\n",
    "    except Exception as e:\n",
    "        pass\n",
    "    sleep(randint(60,95))\n",
    "    print('loading more...')\n",
    "    print('starting scrape')\n",
    "    df_best=page_scrape()\n",
    "    df_best['sort']='best'\n",
    "    sleep(randint(60,80))\n",
    "    "
   ]
  }
 ],
 "metadata": {
  "kernelspec": {
   "display_name": "Python 3 (ipykernel)",
   "language": "python",
   "name": "python3"
  },
  "language_info": {
   "codemirror_mode": {
    "name": "ipython",
    "version": 3
   },
   "file_extension": ".py",
   "mimetype": "text/x-python",
   "name": "python",
   "nbconvert_exporter": "python",
   "pygments_lexer": "ipython3",
   "version": "3.10.5"
  }
 },
 "nbformat": 4,
 "nbformat_minor": 5
}
